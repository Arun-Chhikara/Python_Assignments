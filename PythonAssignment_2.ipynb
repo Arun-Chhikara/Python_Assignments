{
 "cells": [
  {
   "cell_type": "markdown",
   "metadata": {},
   "source": [
    "Create pattern"
   ]
  },
  {
   "cell_type": "code",
   "execution_count": 1,
   "metadata": {},
   "outputs": [],
   "source": [
    "def pattern(max_ = 5):\n",
    "    for i in range(1,max_+1):\n",
    "        print('*'*i,'\\n')\n",
    "    for i in range(max_-1,0,-1):\n",
    "        print('*'*i,'\\n') "
   ]
  },
  {
   "cell_type": "code",
   "execution_count": 2,
   "metadata": {},
   "outputs": [
    {
     "name": "stdout",
     "output_type": "stream",
     "text": [
      "* \n",
      "\n",
      "** \n",
      "\n",
      "*** \n",
      "\n",
      "**** \n",
      "\n",
      "***** \n",
      "\n",
      "**** \n",
      "\n",
      "*** \n",
      "\n",
      "** \n",
      "\n",
      "* \n",
      "\n"
     ]
    }
   ],
   "source": [
    "pattern(5)"
   ]
  },
  {
   "cell_type": "markdown",
   "metadata": {},
   "source": [
    "***"
   ]
  },
  {
   "cell_type": "markdown",
   "metadata": {},
   "source": [
    "Write a Python program to reverse a word after accepting the input from the user."
   ]
  },
  {
   "cell_type": "code",
   "execution_count": 3,
   "metadata": {},
   "outputs": [],
   "source": [
    "def reverse_name():\n",
    "    name = input('Please Enter your Name: ')\n",
    "    print(name[::-1])"
   ]
  },
  {
   "cell_type": "code",
   "execution_count": 4,
   "metadata": {},
   "outputs": [
    {
     "name": "stdin",
     "output_type": "stream",
     "text": [
      "Please Enter your Name:  ineuron\n"
     ]
    },
    {
     "name": "stdout",
     "output_type": "stream",
     "text": [
      "norueni\n"
     ]
    }
   ],
   "source": [
    "reverse_name()"
   ]
  }
 ],
 "metadata": {
  "kernelspec": {
   "display_name": "Python 3",
   "language": "python",
   "name": "python3"
  },
  "language_info": {
   "codemirror_mode": {
    "name": "ipython",
    "version": 3
   },
   "file_extension": ".py",
   "mimetype": "text/x-python",
   "name": "python",
   "nbconvert_exporter": "python",
   "pygments_lexer": "ipython3",
   "version": "3.7.6"
  }
 },
 "nbformat": 4,
 "nbformat_minor": 4
}
